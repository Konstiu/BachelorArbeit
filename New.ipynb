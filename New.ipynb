{
 "cells": [
  {
   "cell_type": "markdown",
   "id": "8472f57d-b108-4d04-884d-9ad9f5a90bc9",
   "metadata": {},
   "source": [
    "# Clone Repos"
   ]
  },
  {
   "cell_type": "code",
   "execution_count": 1,
   "id": "84d70150-836b-421b-a587-b14cb8218714",
   "metadata": {
    "editable": true,
    "slideshow": {
     "slide_type": ""
    },
    "tags": []
   },
   "outputs": [],
   "source": [
    "import os\n",
    "import re\n",
    "import subprocess\n",
    "from tqdm import tqdm\n",
    "import xml.etree.ElementTree as ET\n",
    "from typing import List, Dict\n",
    "from collections import defaultdict\n",
    "from git import Repo, BadName\n",
    "from pathlib import Path\n",
    "import json\n",
    "import requests"
   ]
  },
  {
   "cell_type": "code",
   "execution_count": 2,
   "id": "123c0681-b26e-4325-a615-c51f5e36800a",
   "metadata": {
    "slideshow": {
     "slide_type": ""
    },
    "tags": []
   },
   "outputs": [],
   "source": [
    "repo_name = \"zaproxy/zaproxy\"\n",
    "\n",
    "repo_url = \"https://github.com/\" + repo_name\n",
    "destination_path = \"./\" + repo_name\n",
    "repo_path = repo_name"
   ]
  },
  {
   "cell_type": "code",
   "execution_count": 3,
   "id": "64dc3849-5b71-4b41-becb-1b27a9e344ae",
   "metadata": {
    "editable": false,
    "slideshow": {
     "slide_type": ""
    },
    "tags": []
   },
   "outputs": [
    {
     "ename": "GitCommandError",
     "evalue": "Cmd('git') failed due to: exit code(128)\n  cmdline: git clone -v -- https://github.com/zaproxy/zaproxy ./zaproxy/zaproxy\n  stderr: 'fatal: destination path './zaproxy/zaproxy' already exists and is not an empty directory.\n'",
     "output_type": "error",
     "traceback": [
      "\u001b[31m---------------------------------------------------------------------------\u001b[39m",
      "\u001b[31mGitCommandError\u001b[39m                           Traceback (most recent call last)",
      "\u001b[36mCell\u001b[39m\u001b[36m \u001b[39m\u001b[32mIn[3]\u001b[39m\u001b[32m, line 1\u001b[39m\n\u001b[32m----> \u001b[39m\u001b[32m1\u001b[39m \u001b[43mRepo\u001b[49m\u001b[43m.\u001b[49m\u001b[43mclone_from\u001b[49m\u001b[43m(\u001b[49m\u001b[43mrepo_url\u001b[49m\u001b[43m,\u001b[49m\u001b[43m \u001b[49m\u001b[43mdestination_path\u001b[49m\u001b[43m)\u001b[49m\n",
      "\u001b[36mFile \u001b[39m\u001b[32m~\\anaconda3\\envs\\bak\\Lib\\site-packages\\git\\repo\\base.py:1541\u001b[39m, in \u001b[36mRepo.clone_from\u001b[39m\u001b[34m(cls, url, to_path, progress, env, multi_options, allow_unsafe_protocols, allow_unsafe_options, **kwargs)\u001b[39m\n\u001b[32m   1539\u001b[39m \u001b[38;5;28;01mif\u001b[39;00m env \u001b[38;5;129;01mis\u001b[39;00m \u001b[38;5;129;01mnot\u001b[39;00m \u001b[38;5;28;01mNone\u001b[39;00m:\n\u001b[32m   1540\u001b[39m     git.update_environment(**env)\n\u001b[32m-> \u001b[39m\u001b[32m1541\u001b[39m \u001b[38;5;28;01mreturn\u001b[39;00m \u001b[38;5;28;43mcls\u001b[39;49m\u001b[43m.\u001b[49m\u001b[43m_clone\u001b[49m\u001b[43m(\u001b[49m\n\u001b[32m   1542\u001b[39m \u001b[43m    \u001b[49m\u001b[43mgit\u001b[49m\u001b[43m,\u001b[49m\n\u001b[32m   1543\u001b[39m \u001b[43m    \u001b[49m\u001b[43murl\u001b[49m\u001b[43m,\u001b[49m\n\u001b[32m   1544\u001b[39m \u001b[43m    \u001b[49m\u001b[43mto_path\u001b[49m\u001b[43m,\u001b[49m\n\u001b[32m   1545\u001b[39m \u001b[43m    \u001b[49m\u001b[43mGitCmdObjectDB\u001b[49m\u001b[43m,\u001b[49m\n\u001b[32m   1546\u001b[39m \u001b[43m    \u001b[49m\u001b[43mprogress\u001b[49m\u001b[43m,\u001b[49m\n\u001b[32m   1547\u001b[39m \u001b[43m    \u001b[49m\u001b[43mmulti_options\u001b[49m\u001b[43m,\u001b[49m\n\u001b[32m   1548\u001b[39m \u001b[43m    \u001b[49m\u001b[43mallow_unsafe_protocols\u001b[49m\u001b[43m=\u001b[49m\u001b[43mallow_unsafe_protocols\u001b[49m\u001b[43m,\u001b[49m\n\u001b[32m   1549\u001b[39m \u001b[43m    \u001b[49m\u001b[43mallow_unsafe_options\u001b[49m\u001b[43m=\u001b[49m\u001b[43mallow_unsafe_options\u001b[49m\u001b[43m,\u001b[49m\n\u001b[32m   1550\u001b[39m \u001b[43m    \u001b[49m\u001b[43m*\u001b[49m\u001b[43m*\u001b[49m\u001b[43mkwargs\u001b[49m\u001b[43m,\u001b[49m\n\u001b[32m   1551\u001b[39m \u001b[43m\u001b[49m\u001b[43m)\u001b[49m\n",
      "\u001b[36mFile \u001b[39m\u001b[32m~\\anaconda3\\envs\\bak\\Lib\\site-packages\\git\\repo\\base.py:1412\u001b[39m, in \u001b[36mRepo._clone\u001b[39m\u001b[34m(cls, git, url, path, odb_default_type, progress, multi_options, allow_unsafe_protocols, allow_unsafe_options, **kwargs)\u001b[39m\n\u001b[32m   1409\u001b[39m     cmdline = remove_password_if_present(cmdline)\n\u001b[32m   1411\u001b[39m     _logger.debug(\u001b[33m\"\u001b[39m\u001b[33mCmd(\u001b[39m\u001b[38;5;132;01m%s\u001b[39;00m\u001b[33m)\u001b[39m\u001b[33m'\u001b[39m\u001b[33ms unused stdout: \u001b[39m\u001b[38;5;132;01m%s\u001b[39;00m\u001b[33m\"\u001b[39m, cmdline, stdout)\n\u001b[32m-> \u001b[39m\u001b[32m1412\u001b[39m     \u001b[43mfinalize_process\u001b[49m\u001b[43m(\u001b[49m\u001b[43mproc\u001b[49m\u001b[43m,\u001b[49m\u001b[43m \u001b[49m\u001b[43mstderr\u001b[49m\u001b[43m=\u001b[49m\u001b[43mstderr\u001b[49m\u001b[43m)\u001b[49m\n\u001b[32m   1414\u001b[39m \u001b[38;5;66;03m# Our git command could have a different working dir than our actual\u001b[39;00m\n\u001b[32m   1415\u001b[39m \u001b[38;5;66;03m# environment, hence we prepend its working dir if required.\u001b[39;00m\n\u001b[32m   1416\u001b[39m \u001b[38;5;28;01mif\u001b[39;00m \u001b[38;5;129;01mnot\u001b[39;00m osp.isabs(path):\n",
      "\u001b[36mFile \u001b[39m\u001b[32m~\\anaconda3\\envs\\bak\\Lib\\site-packages\\git\\util.py:504\u001b[39m, in \u001b[36mfinalize_process\u001b[39m\u001b[34m(proc, **kwargs)\u001b[39m\n\u001b[32m    501\u001b[39m \u001b[38;5;250m\u001b[39m\u001b[33;03m\"\"\"Wait for the process (clone, fetch, pull or push) and handle its errors\u001b[39;00m\n\u001b[32m    502\u001b[39m \u001b[33;03maccordingly.\"\"\"\u001b[39;00m\n\u001b[32m    503\u001b[39m \u001b[38;5;66;03m# TODO: No close proc-streams??\u001b[39;00m\n\u001b[32m--> \u001b[39m\u001b[32m504\u001b[39m \u001b[43mproc\u001b[49m\u001b[43m.\u001b[49m\u001b[43mwait\u001b[49m\u001b[43m(\u001b[49m\u001b[43m*\u001b[49m\u001b[43m*\u001b[49m\u001b[43mkwargs\u001b[49m\u001b[43m)\u001b[49m\n",
      "\u001b[36mFile \u001b[39m\u001b[32m~\\anaconda3\\envs\\bak\\Lib\\site-packages\\git\\cmd.py:834\u001b[39m, in \u001b[36mGit.AutoInterrupt.wait\u001b[39m\u001b[34m(self, stderr)\u001b[39m\n\u001b[32m    832\u001b[39m     errstr = read_all_from_possibly_closed_stream(p_stderr)\n\u001b[32m    833\u001b[39m     _logger.debug(\u001b[33m\"\u001b[39m\u001b[33mAutoInterrupt wait stderr: \u001b[39m\u001b[38;5;132;01m%r\u001b[39;00m\u001b[33m\"\u001b[39m % (errstr,))\n\u001b[32m--> \u001b[39m\u001b[32m834\u001b[39m     \u001b[38;5;28;01mraise\u001b[39;00m GitCommandError(remove_password_if_present(\u001b[38;5;28mself\u001b[39m.args), status, errstr)\n\u001b[32m    835\u001b[39m \u001b[38;5;28;01mreturn\u001b[39;00m status\n",
      "\u001b[31mGitCommandError\u001b[39m: Cmd('git') failed due to: exit code(128)\n  cmdline: git clone -v -- https://github.com/zaproxy/zaproxy ./zaproxy/zaproxy\n  stderr: 'fatal: destination path './zaproxy/zaproxy' already exists and is not an empty directory.\n'"
     ]
    }
   ],
   "source": [
    "Repo.clone_from(repo_url, destination_path)"
   ]
  },
  {
   "cell_type": "code",
   "execution_count": 4,
   "id": "e4752833-4619-417d-a36d-5d6890013ab6",
   "metadata": {
    "editable": false,
    "slideshow": {
     "slide_type": ""
    },
    "tags": []
   },
   "outputs": [],
   "source": [
    "repo = Repo(destination_path)"
   ]
  },
  {
   "cell_type": "code",
   "execution_count": 5,
   "id": "d56039a9-fe48-4c56-9833-7e77586a1ec6",
   "metadata": {
    "editable": false,
    "slideshow": {
     "slide_type": ""
    },
    "tags": []
   },
   "outputs": [],
   "source": [
    "def find_all_files(repo_path):\n",
    "    pom_files = []\n",
    "    for root, dirs, files in os.walk(repo_path):\n",
    "        for file in files:\n",
    "            if file == \"pom.xml\" or file == \"requirements.txt\" or file ==\"package.json\":\n",
    "                full_path = os.path.join(root, file)\n",
    "                pom_files.append(full_path)\n",
    "    return pom_files"
   ]
  },
  {
   "cell_type": "code",
   "execution_count": 6,
   "id": "9ec8c921-0a7e-41e0-bb9e-6b0aae92c80d",
   "metadata": {
    "editable": false,
    "slideshow": {
     "slide_type": ""
    },
    "tags": []
   },
   "outputs": [],
   "source": [
    "def find_commits_with_changes(repo_path, file_paths):\n",
    "    repo = Repo(repo_path)\n",
    "    commits_with_changes = {}\n",
    "\n",
    "    for file_path in file_paths:\n",
    "        rel_path = os.path.relpath(file_path, repo_path)\n",
    "        commits = list(repo.iter_commits(paths=rel_path))\n",
    "        \n",
    "        commits_with_changes[rel_path] = [commit.hexsha for commit in commits]\n",
    "    \n",
    "    return commits_with_changes"
   ]
  },
  {
   "cell_type": "code",
   "execution_count": 7,
   "id": "b964f07c-3839-413d-a600-b7c24ade5802",
   "metadata": {
    "editable": false,
    "scrolled": true,
    "slideshow": {
     "slide_type": ""
    },
    "tags": []
   },
   "outputs": [
    {
     "name": "stdout",
     "output_type": "stream",
     "text": [
      "./zaproxy/zaproxy/docker/requirements.txt\n",
      "1\n"
     ]
    }
   ],
   "source": [
    "# Example usage\n",
    "repo_path = \"./\" + repo_name  # Replace with your cloned repo path\n",
    "file_paths = find_all_files(repo_path)\n",
    "\n",
    "# Display all found pom.xml paths\n",
    "for path in file_paths:\n",
    "    path = path.replace('\\\\', '/')\n",
    "    print(path)\n",
    "\n",
    "print(len(file_paths))"
   ]
  },
  {
   "cell_type": "code",
   "execution_count": 8,
   "id": "4d8cd0a8-7fd8-420f-bfdf-cacc4fbbfdb3",
   "metadata": {
    "editable": false,
    "slideshow": {
     "slide_type": ""
    },
    "tags": []
   },
   "outputs": [],
   "source": [
    "def get_all_relevant_commits(repo_path: str, file_paths: List[str]) -> Dict[str, List[str]]:\n",
    "    repo = Repo(repo_path)\n",
    "    commits_with_changes = {}\n",
    "\n",
    "    for file_path in file_paths:\n",
    "        rel_path = os.path.relpath(file_path, repo_path)\n",
    "\n",
    "        # Get all commits that modified the file\n",
    "        result = subprocess.run(\n",
    "            [\"git\", \"-C\", repo_path, \"log\", \"--follow\", \"--pretty=format:%H\", \"--name-only\", \"--\", rel_path],\n",
    "            capture_output=True,\n",
    "            text=True,\n",
    "            check=True\n",
    "        )\n",
    "\n",
    "        lines = result.stdout.strip().split('\\n')\n",
    "        current_commit = None\n",
    "\n",
    "        for line in lines:\n",
    "            stripped_line = line.strip()\n",
    "            \n",
    "            if len(stripped_line) == 40 and all(c in '0123456789abcdef' for c in stripped_line):  # Check if it looks like a SHA-1 hash\n",
    "                current_commit = stripped_line\n",
    "                if current_commit not in commits_with_changes:\n",
    "                    commits_with_changes[current_commit] = set()  # Using set to avoid duplicates\n",
    "            elif current_commit:\n",
    "                modified_file = stripped_line\n",
    "                if modified_file:  # Ensure we don't add empty lines\n",
    "                    commits_with_changes[current_commit].add(modified_file)\n",
    "\n",
    "    # Convert commits to a sorted list based on commit date\n",
    "    commit_objects = []\n",
    "    for commit_hash in commits_with_changes.keys():\n",
    "        try:\n",
    "            commit_obj = repo.commit(commit_hash)\n",
    "            commit_objects.append((commit_obj, commit_hash))\n",
    "        except BadName:\n",
    "            print(f\"Skipping invalid commit hash: {commit_hash}\")  # Warn if a bad commit hash is found\n",
    "\n",
    "    sorted_commits = sorted(commit_objects, key=lambda x: x[0].committed_date)\n",
    "    \n",
    "    # Creating a sorted dictionary of commits with their modified files\n",
    "    sorted_commits_with_changes = {commit_hash: list(commits_with_changes[commit_hash]) for _, commit_hash in sorted_commits}\n",
    "\n",
    "    return sorted_commits_with_changes"
   ]
  },
  {
   "cell_type": "code",
   "execution_count": 9,
   "id": "531e5566-d8de-44f8-bb91-5bd8089a420a",
   "metadata": {
    "editable": false,
    "slideshow": {
     "slide_type": ""
    },
    "tags": []
   },
   "outputs": [
    {
     "name": "stdout",
     "output_type": "stream",
     "text": [
      "Total number of commits: 4\n",
      "Commits (earliest to latest):\n",
      "8cc30d8daec20df2f5dc35563d5886e32b651b1c: ['build/docker/requirements.txt']\n",
      "efb404d38280dc9ecf8f88c9b0c658385861bdcf: ['docker/requirements.txt']\n",
      "2b103d0fd7127d0e89126ca2d041a8336700331c: ['docker/requirements.txt']\n",
      "d68ef4868d1b0a06a166d9856f5852b63c59473f: ['docker/requirements.txt']\n"
     ]
    }
   ],
   "source": [
    "# Example usage\n",
    "sorted_commit_hashes = get_all_relevant_commits(repo_path, file_paths)\n",
    "\n",
    "# Display results\n",
    "print(f\"Total number of commits: {len(sorted_commit_hashes)}\")\n",
    "print(\"Commits (earliest to latest):\")\n",
    "for commit_hash, files in list(sorted_commit_hashes.items())[:10]:  # Displaying the first 10 for brevity\n",
    "    print(f\"{commit_hash}: {files}\")"
   ]
  },
  {
   "cell_type": "markdown",
   "id": "6ba8dee9-8914-4fdb-a2bd-a91281445a30",
   "metadata": {
    "editable": true,
    "slideshow": {
     "slide_type": ""
    },
    "tags": []
   },
   "source": [
    "## java pom.xml parsing "
   ]
  },
  {
   "cell_type": "code",
   "execution_count": 10,
   "id": "83538dc7-84f6-4bec-9fba-dd3cffcca969",
   "metadata": {
    "editable": false,
    "scrolled": true,
    "slideshow": {
     "slide_type": ""
    },
    "tags": []
   },
   "outputs": [
    {
     "name": "stderr",
     "output_type": "stream",
     "text": [
      "Processing commits: 100%|████████████████████████████████████████████████████████████████████████| 4/4 [00:00<?, ?it/s]\n"
     ]
    }
   ],
   "source": [
    "# Initialize file cache\n",
    "file_cache = {}\n",
    "properties_cache = {}\n",
    "NAMESPACE = {'mvn': 'http://maven.apache.org/POM/4.0.0'}\n",
    "properties = {}\n",
    "\n",
    "def parse_pom_xml(content: str, file_path: str, properties: Dict[str, str] = None) -> Dict[str, str]:\n",
    "    if properties is None:\n",
    "        properties = {}\n",
    "    else:\n",
    "        properties = properties.copy()  # Avoid side effects\n",
    "\n",
    "    dependencies = {}\n",
    "\n",
    "    try:\n",
    "        root = ET.fromstring(content)\n",
    "\n",
    "        # Update namespace if needed\n",
    "        if 'xmlns' in root.attrib:\n",
    "            NAMESPACE['mvn'] = root.attrib['xmlns']\n",
    "\n",
    "        # Load project properties\n",
    "        for prop in root.findall(\".//mvn:properties/*\", NAMESPACE):\n",
    "            if prop.tag and prop.text:\n",
    "                prop_name = prop.tag.split('}')[-1]\n",
    "                properties[prop_name] = prop.text.strip()\n",
    "                properties_cache[prop_name] = properties[prop_name]\n",
    "        \n",
    "        # Load project and parent versions as fallback properties\n",
    "        project_version = root.find(\".//mvn:version\", NAMESPACE)\n",
    "        if project_version is not None and project_version.text:\n",
    "            properties[\"project.version\"] = project_version.text.strip()\n",
    "\n",
    "        parent_version = root.find(\".//mvn:parent/mvn:version\", NAMESPACE)\n",
    "        if parent_version is not None and parent_version.text:\n",
    "            properties[\"parent.version\"] = parent_version.text.strip()\n",
    "\n",
    "        parent_info = {}\n",
    "        relative_path_elem = root.find(\".//mvn:parent/mvn:relativePath\", NAMESPACE)\n",
    "        if relative_path_elem is not None and relative_path_elem.text:\n",
    "            parent_info = {\"parent_pom_path\": relative_path_elem.text.strip()}\n",
    "\n",
    "        # Read dependencies\n",
    "        for dependency in root.findall(\".//mvn:dependency\", NAMESPACE):\n",
    "            group_id = dependency.find(\"mvn:groupId\", NAMESPACE)\n",
    "            artifact_id = dependency.find(\"mvn:artifactId\", NAMESPACE)\n",
    "            version = dependency.find(\"mvn:version\", NAMESPACE)\n",
    "\n",
    "            if group_id is not None and artifact_id is not None:\n",
    "                dep_key = f\"{group_id.text.strip()}:{artifact_id.text.strip()}\"\n",
    "                if \"${\" in dep_key and \"}\" in dep_key:\n",
    "                    dep_key = (resolve_cached(dep_key))\n",
    "\n",
    "                if version is not None and version.text:\n",
    "                    version_text = version.text.strip()\n",
    "                    if version_text.startswith(\"${\") and version_text.endswith(\"}\"):\n",
    "                        prop_name = version_text[2:-1]\n",
    "                        resolved_version = properties.get(prop_name, \"UNRESOLVED\")\n",
    "                        if resolved_version == \"UNRESOLVED\":\n",
    "                            resolved_version = resolve_from_parent(prop_name, file_path, parent_info)\n",
    "                            if (resolved_version ==\"UNRESOLVED\"):\n",
    "                                resolved_version = properties_cache.get(prop_name, \"UNRESOLVED\")\n",
    "                        if resolved_version.startswith(\"${\") and resolved_version.endswith(\"}\"):\n",
    "                            resolved_version = resolve_cached(resolved_version)\n",
    "                        dependencies[dep_key] = resolved_version\n",
    "                    else:\n",
    "                        dependencies[dep_key] = version_text\n",
    "                #else:\n",
    "                    #dependencies[dep_key] = \"UNSPECIFIED\"\n",
    "\n",
    "    except ET.ParseError as e:\n",
    "        print(f\"XML parsing error: {e}\")\n",
    "\n",
    "    return dependencies\n",
    "\n",
    "\n",
    "\n",
    "\n",
    "def resolve_cached(prop_name, visited=None):\n",
    "    matches = re.findall(r\"\\$\\{([^}]+)\\}\", prop_name)\n",
    "    if not matches:\n",
    "        return properties_cache.get(prop_name)  # nothing to resolve, return as is\n",
    "\n",
    "    resolved = prop_name\n",
    "    for match in matches:\n",
    "        inner_value = resolve_cached(match)\n",
    "        if inner_value is None:\n",
    "            return match\n",
    "        resolved = resolved.replace(f\"${{{match}}}\", inner_value)\n",
    "\n",
    "    return resolved\n",
    "\n",
    "\n",
    "\n",
    "def resolve_from_parent(prop_name: str, file_path: str, properties: Dict[str, str]) -> str:\n",
    "    parent_pom_path = properties.get(\"parent_pom_path\")   \n",
    "    if parent_pom_path is None:\n",
    "        final_path = \"pom.xml\"\n",
    "        parent_file = str(final_path).replace(\"\\\\\", \"/\")\n",
    "        if parent_file not in file_cache:\n",
    "            return \"UNRESOLVED\"\n",
    "        content = file_cache[parent_file]\n",
    "        parent_prop_value = get_all_properties(content, prop_name, final_path, {})\n",
    "        return parent_prop_value\n",
    "\n",
    "    file_path = Path(file_path) if not isinstance(file_path, Path) else file_path\n",
    "    parent_pom_path = Path(parent_pom_path) if not isinstance(parent_pom_path, Path) else parent_pom_path\n",
    "    combined = file_path.parent / parent_pom_path\n",
    "\n",
    "    stack = []\n",
    "    for part in combined.parts:\n",
    "        if part == \"..\":\n",
    "            if stack and stack[-1] != \"..\":\n",
    "                stack.pop()\n",
    "            else:\n",
    "                stack.append(part)\n",
    "        elif part != \".\":\n",
    "            stack.append(part)\n",
    "    final_path = Path(*stack)\n",
    "    parent_file = str(final_path).replace(\"\\\\\", \"/\")\n",
    "    if parent_file not in file_cache:\n",
    "        #print(f\"[DEBUG] Skipping missing file: {parent_file}\")\n",
    "        return \"UNRESOLVED\"\n",
    "    content = file_cache[parent_file]\n",
    "    parent_prop_value = get_all_properties(content, prop_name, final_path, {})\n",
    "    return parent_prop_value\n",
    "\n",
    "def get_all_properties(content: str, target_prop: str, file_path: str, properties: Dict[str, str] = None):\n",
    "    if properties is None:\n",
    "        properties = {}\n",
    "    else:\n",
    "        properties = properties.copy()  # Avoid side effects\n",
    "\n",
    "    try:\n",
    "        root = ET.fromstring(content)\n",
    "\n",
    "        if 'xmlns' in root.attrib:\n",
    "            NAMESPACE['mvn'] = root.attrib['xmlns']\n",
    "\n",
    "        # Properly assign keys without shadowing target_prop\n",
    "        for prop in root.findall(\".//mvn:properties/*\", NAMESPACE):\n",
    "            if prop.tag and prop.text:\n",
    "                key = prop.tag.split('}')[-1]\n",
    "                properties[key] = prop.text.strip()\n",
    "\n",
    "        return properties.get(target_prop, \"UNRESOLVED\")\n",
    "    except Exception as e:\n",
    "        return \"UNRESOLVED\"    \n",
    "\n",
    "def load_file_at_commit(repo, commit_hash, file_path):\n",
    "    try:\n",
    "        commit = repo.commit(commit_hash)\n",
    "        blob = commit.tree / file_path\n",
    "        content = blob.data_stream.read().decode('utf-8')\n",
    "        file_cache[file_path] = content\n",
    "        return content\n",
    "    except Exception as e:\n",
    "        print(f\"[DEBUG]Error loading file '{file_path}' at commit '{commit_hash}': {e}\")\n",
    "        return None\n",
    "\n",
    "\n",
    "def process_commit(repo, commit_hash, changed_files, dependencies_snapshot):\n",
    "    for file_path in changed_files:\n",
    "        if file_path.endswith(\"pom.xml\"):\n",
    "            content = load_file_at_commit(repo, commit_hash, file_path)\n",
    "            if content:\n",
    "                new_dependencies = parse_pom_xml(content, file_path, properties)\n",
    "                dependencies_snapshot[file_path] = new_dependencies\n",
    "    return dependencies_snapshot\n",
    "\n",
    "\n",
    "def process_commits(repo, commits_with_changes):\n",
    "    dependencies_over_time = {}\n",
    "    dependencies_snapshot = {}\n",
    "\n",
    "    for commit_hash, changed_files in tqdm(commits_with_changes.items(), desc=\"Processing commits\"):\n",
    "        dependencies_snapshot = process_commit(repo, commit_hash, changed_files, dependencies_snapshot)\n",
    "        dependencies_over_time[commit_hash] = dependencies_snapshot.copy()\n",
    "\n",
    "    return dependencies_over_time\n",
    "\n",
    "\n",
    "dependencies_over_time = process_commits(repo, sorted_commit_hashes)\n",
    "\n",
    "import json\n",
    "\n",
    "with open(\"dependencies_over_time.json\", \"w\") as f:\n",
    "    json.dump(dependencies_over_time, f, indent=4)\n"
   ]
  },
  {
   "cell_type": "markdown",
   "id": "d51ca383-1178-4511-b60a-3432b71a5ac0",
   "metadata": {
    "editable": true,
    "slideshow": {
     "slide_type": ""
    },
    "tags": []
   },
   "source": [
    "## python and javascript parsing: "
   ]
  },
  {
   "cell_type": "code",
   "execution_count": 11,
   "id": "d40fd514-c552-4214-b82a-68fd944de0df",
   "metadata": {
    "editable": false,
    "slideshow": {
     "slide_type": ""
    },
    "tags": []
   },
   "outputs": [],
   "source": [
    "# Initialize cache and data structures\n",
    "file_cache = {}\n",
    "unique_entries = set()\n",
    "dependency_changes = defaultdict(list)\n",
    "\n",
    "# Supported version specifiers in requirements.txt\n",
    "VERSION_SPECIFIERS = [\n",
    "    '==', '>=', '<=', '~=', '!=', '>', '<'\n",
    "]\n",
    "\n",
    "\n",
    "def load_file_at_commit(repo_path, commit_hash, file_path):\n",
    "    try:\n",
    "        result = subprocess.run(\n",
    "            [\"git\", \"-C\", repo_path, \"show\", f\"{commit_hash}:{file_path}\"],\n",
    "            stdout=subprocess.PIPE,\n",
    "            stderr=subprocess.PIPE,\n",
    "            text=True,\n",
    "            check=True\n",
    "        )\n",
    "        return result.stdout\n",
    "    except subprocess.CalledProcessError as e:\n",
    "        print(f\"Error loading file '{file_path}' at commit '{commit_hash}': {e.stderr}\")\n",
    "        return None\n",
    "\n",
    "\n",
    "def process_commit_file_content(repo_path, sha, file_path, type):\n",
    "    content = load_file_at_commit(repo_path, sha, file_path)\n",
    "        \n",
    "    if content:\n",
    "        parse_file_content(content, sha, file_path, type)\n",
    "\n",
    "\n",
    "def parse_file_content(content, sha, filename, type):\n",
    "    dependencies = {}\n",
    "    hash_pattern = re.compile(r\"--hash=sha256:[a-fA-F0-9]{64}\")\n",
    "\n",
    "    if type == \"py\" and \"requirements.txt\" in filename:\n",
    "        for line in content.splitlines():\n",
    "            line = line.strip()\n",
    "\n",
    "            if not line or line.startswith('#') or line.startswith(\"--\"):  # Ignore comments and empty lines\n",
    "                continue\n",
    "\n",
    "            # Check if line is a hash\n",
    "            if hash_pattern.match(line):\n",
    "                continue\n",
    "\n",
    "            # Remove inline comments\n",
    "            if '#' in line:\n",
    "                line = line.split('#', 1)[0].strip()\n",
    "\n",
    "            # Find the version specifier used\n",
    "            version = \"UNSPECIFIED\"\n",
    "            for specifier in VERSION_SPECIFIERS:\n",
    "                if specifier in line:\n",
    "                    package, version = line.split(specifier, 1)\n",
    "                    package = package.strip()\n",
    "                    version = version.strip()\n",
    "                    dependencies[package] = version\n",
    "                    break\n",
    "            else:  # No version specifier found\n",
    "                package = line\n",
    "                dependencies[package] = \"latest-version-available\"\n",
    "\n",
    "    elif type == \"js\" and \"package.json\" in filename:\n",
    "        import json\n",
    "        try:\n",
    "            parsed_json = json.loads(content)\n",
    "            if \"dependencies\" in parsed_json:\n",
    "                dependencies.update(parsed_json[\"dependencies\"])\n",
    "            if \"devDependencies\" in parsed_json:\n",
    "                dependencies.update(parsed_json[\"devDependencies\"])\n",
    "        except json.JSONDecodeError as e:\n",
    "            print(f\"Error parsing JSON file '{filename}': {e}\")\n",
    "\n",
    "    # Store the parsed dependencies for this commit\n",
    "    dependency_changes[sha] = {\n",
    "        \"filename\": filename,\n",
    "        \"dependencies\": dependencies,\n",
    "        \"ecosystem\": type\n",
    "    }\n",
    "\n",
    "\n",
    "def process_commits(repo_path, commits_with_files):\n",
    "    for sha, files in commits_with_files.items():\n",
    "        for file_path in files:\n",
    "            if file_path.endswith(\"requirements.txt\"):\n",
    "                process_commit_file_content(repo_path, sha, file_path, \"py\")\n",
    "            elif file_path.endswith(\"package.json\"):\n",
    "                process_commit_file_content(repo_path, sha, file_path, \"js\")\n",
    "\n",
    "\n",
    "def save_results(output_file=\"dependencies_over_time_py.json\"):\n",
    "    import json\n",
    "    with open(output_file, \"w\") as f:\n",
    "        json.dump(dependency_changes, f, indent=4)\n",
    "\n",
    "\n",
    "process_commits(repo_path, sorted_commit_hashes)\n",
    "save_results()"
   ]
  },
  {
   "cell_type": "code",
   "execution_count": 5,
   "id": "e6ccb1c9-1b45-450a-a46e-dffc94dee4b0",
   "metadata": {},
   "outputs": [],
   "source": [
    "import subprocess\n",
    "import re\n",
    "from pathlib import Path\n",
    "import os\n",
    "import platform\n",
    "\n",
    "def run_gradle_dependencies(project_dir: str, configuration: str = \"runtimeClasspath\"):\n",
    "    \"\"\"\n",
    "    Runs 'gradlew dependencies' for the given configuration and parses resolved dependencies.\n",
    "    Returns a list of (group, artifact, version).\n",
    "    \"\"\"\n",
    "    project_path = Path(project_dir)\n",
    "\n",
    "    gradlew = project_path / (\"gradlew.bat\" if platform.system() == \"Windows\" else \"gradlew\")\n",
    "    if not gradlew.exists():\n",
    "        raise FileNotFoundError(f\"No gradle wrapper found in {project_dir} (looked for {gradlew.name})\")\n",
    "\n",
    "    try:\n",
    "        result = subprocess.run(\n",
    "            [str(gradlew), \"dependencies\", f\"--configuration={configuration}\"],\n",
    "            cwd=project_dir,\n",
    "            check=True,\n",
    "            text=True,\n",
    "            capture_output=True,\n",
    "        )\n",
    "    except subprocess.CalledProcessError as e:\n",
    "        print(\"Gradle failed:\", e.stderr)\n",
    "        return []\n",
    "\n",
    "    return parse_gradle_output(result.stdout)\n",
    "\n",
    "def parse_gradle_output(output: str):\n",
    "    dep_pattern = re.compile(r\"(?P<prefix>[+\\\\]---|\\|)?\\s*(?P<ga>([\\w\\.-]+):([\\w\\.-]+)):(?P<version>[\\w\\.-]+)(\\s->\\s(?P<resolved>[\\w\\.-]+))?\")\n",
    "\n",
    "    seen = set()\n",
    "    dependencies = []\n",
    "\n",
    "    for line in output.splitlines():\n",
    "        match = dep_pattern.search(line)\n",
    "        if match:\n",
    "            group, artifact = match.group(3), match.group(4)\n",
    "            version = match.group(\"resolved\") or match.group(\"version\")\n",
    "\n",
    "            key = (group, artifact, version)\n",
    "            if key not in seen:\n",
    "                seen.add(key)\n",
    "                dependencies.append(key)\n",
    "\n",
    "    return dependencies\n"
   ]
  },
  {
   "cell_type": "code",
   "execution_count": 6,
   "id": "1956f283-7bbf-46e2-a92b-b188f841f954",
   "metadata": {},
   "outputs": [
    {
     "name": "stdout",
     "output_type": "stream",
     "text": [
      "Gradle failed: The system cannot find the path specified.\n",
      "\n"
     ]
    }
   ],
   "source": [
    "\n",
    "deps = run_gradle_dependencies(repo_path)\n",
    "for group, artifact, version in deps:\n",
    "    print(f\"{group}:{artifact}:{version}\")\n"
   ]
  },
  {
   "cell_type": "code",
   "execution_count": 15,
   "id": "30441fca-0050-4127-850a-3e1c6c10b71d",
   "metadata": {
    "editable": false,
    "slideshow": {
     "slide_type": ""
    },
    "tags": []
   },
   "outputs": [],
   "source": [
    "def merge_dependencies(python_and_javascript: Dict, java: Dict) -> Dict:\n",
    "    merged_data = {}\n",
    "\n",
    "    # Combine all unique commit hashes from both datasets\n",
    "    all_commits = set(python_and_javascript.keys()).union(java.keys())\n",
    "\n",
    "    for commit in all_commits:\n",
    "        merged_data[commit] = {\n",
    "            \"java\": {},\n",
    "            \"python\": {},\n",
    "            \"javascript\": {}\n",
    "        }\n",
    "\n",
    "        # Add Java dependencies if present\n",
    "        if commit in java:\n",
    "            for file, content in java[commit].items():\n",
    "                merged_data[commit][\"java\"][file] = content  # No renaming!\n",
    "\n",
    "        # Add Python and JavaScript dependencies if present\n",
    "        if commit in python_and_javascript:\n",
    "            content = python_and_javascript[commit]\n",
    "\n",
    "            # Check if it's a Python or JavaScript file based on 'ecosystem'\n",
    "            if content.get(\"ecosystem\") == \"py\":\n",
    "                merged_data[commit][\"python\"][content[\"filename\"]] = content[\"dependencies\"]\n",
    "            elif content.get(\"ecosystem\") == \"js\":\n",
    "                merged_data[commit][\"javascript\"][content[\"filename\"]] = content[\"dependencies\"]\n",
    "\n",
    "\n",
    "    return merged_data\n",
    "\n",
    "def remove_empty_objects(data):\n",
    "    if isinstance(data, dict):\n",
    "        return {\n",
    "            k: remove_empty_objects(v)\n",
    "            for k, v in data.items()\n",
    "            if not (isinstance(v, dict) and not v)  # remove empty dicts\n",
    "        }\n",
    "    elif isinstance(data, list):\n",
    "        return [remove_empty_objects(item) for item in data]\n",
    "    else:\n",
    "        return data\n",
    "\n",
    "def save_merged_data(merged_data: Dict, output_file: str):\n",
    "    with open(output_file, 'w') as f:\n",
    "        json.dump(merged_data, f, indent=4)\n",
    "\n",
    "\n",
    "with open('dependencies_over_time_py.json', 'r') as f:\n",
    "    python_and_javascript = json.load(f)\n",
    "\n",
    "with open('dependencies_over_time.json', 'r') as f:\n",
    "    java = json.load(f)\n",
    "\n",
    "merged_data = merge_dependencies(python_and_javascript, java)\n",
    "new_merged_data = remove_empty_objects(merged_data)\n",
    "save_merged_data(new_merged_data, 'merged_dependencies.json')\n"
   ]
  },
  {
   "cell_type": "code",
   "execution_count": null,
   "id": "dcb0fcbc-dd7a-488e-9fc3-d6f64268c94b",
   "metadata": {
    "editable": true,
    "slideshow": {
     "slide_type": ""
    },
    "tags": []
   },
   "outputs": [],
   "source": []
  }
 ],
 "metadata": {
  "kernelspec": {
   "display_name": "Python 3 (ipykernel)",
   "language": "python",
   "name": "python3"
  },
  "language_info": {
   "codemirror_mode": {
    "name": "ipython",
    "version": 3
   },
   "file_extension": ".py",
   "mimetype": "text/x-python",
   "name": "python",
   "nbconvert_exporter": "python",
   "pygments_lexer": "ipython3",
   "version": "3.12.9"
  }
 },
 "nbformat": 4,
 "nbformat_minor": 5
}
